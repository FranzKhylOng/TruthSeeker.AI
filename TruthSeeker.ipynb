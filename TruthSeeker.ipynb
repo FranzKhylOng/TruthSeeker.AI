{
 "cells": [
  {
   "cell_type": "markdown",
   "id": "dd140005",
   "metadata": {},
   "source": [
    "# US Dataset"
   ]
  },
  {
   "cell_type": "code",
   "execution_count": 2,
   "id": "1b8d0e69",
   "metadata": {},
   "outputs": [],
   "source": [
    "# For data manipulation\n",
    "import numpy as np\n",
    "import pandas as pd\n",
    "import nltk\n",
    "\n",
    "# Scikit-learn libraries\n",
    "from sklearn.model_selection import train_test_split\n",
    "from sklearn.feature_extraction.text import TfidfVectorizer\n",
    "from sklearn.metrics import accuracy_score, confusion_matrix, f1_score\n",
    "from mlxtend.plotting import plot_confusion_matrix\n",
    "\n",
    "# For data visualization\n",
    "import matplotlib.pyplot as plt"
   ]
  },
  {
   "cell_type": "code",
   "execution_count": 3,
   "id": "b8fbab7d",
   "metadata": {},
   "outputs": [
    {
     "data": {
      "text/html": [
       "<div>\n",
       "<style scoped>\n",
       "    .dataframe tbody tr th:only-of-type {\n",
       "        vertical-align: middle;\n",
       "    }\n",
       "\n",
       "    .dataframe tbody tr th {\n",
       "        vertical-align: top;\n",
       "    }\n",
       "\n",
       "    .dataframe thead th {\n",
       "        text-align: right;\n",
       "    }\n",
       "</style>\n",
       "<table border=\"1\" class=\"dataframe\">\n",
       "  <thead>\n",
       "    <tr style=\"text-align: right;\">\n",
       "      <th></th>\n",
       "      <th>title</th>\n",
       "      <th>text</th>\n",
       "    </tr>\n",
       "  </thead>\n",
       "  <tbody>\n",
       "    <tr>\n",
       "      <th>0</th>\n",
       "      <td>As U.S. budget fight looms, Republicans flip t...</td>\n",
       "      <td>WASHINGTON (Reuters) - The head of a conservat...</td>\n",
       "    </tr>\n",
       "    <tr>\n",
       "      <th>1</th>\n",
       "      <td>U.S. military to accept transgender recruits o...</td>\n",
       "      <td>WASHINGTON (Reuters) - Transgender people will...</td>\n",
       "    </tr>\n",
       "    <tr>\n",
       "      <th>2</th>\n",
       "      <td>Senior U.S. Republican senator: 'Let Mr. Muell...</td>\n",
       "      <td>WASHINGTON (Reuters) - The special counsel inv...</td>\n",
       "    </tr>\n",
       "    <tr>\n",
       "      <th>3</th>\n",
       "      <td>FBI Russia probe helped by Australian diplomat...</td>\n",
       "      <td>WASHINGTON (Reuters) - Trump campaign adviser ...</td>\n",
       "    </tr>\n",
       "    <tr>\n",
       "      <th>4</th>\n",
       "      <td>Trump wants Postal Service to charge 'much mor...</td>\n",
       "      <td>SEATTLE/WASHINGTON (Reuters) - President Donal...</td>\n",
       "    </tr>\n",
       "    <tr>\n",
       "      <th>...</th>\n",
       "      <td>...</td>\n",
       "      <td>...</td>\n",
       "    </tr>\n",
       "    <tr>\n",
       "      <th>21412</th>\n",
       "      <td>'Fully committed' NATO backs new U.S. approach...</td>\n",
       "      <td>BRUSSELS (Reuters) - NATO allies on Tuesday we...</td>\n",
       "    </tr>\n",
       "    <tr>\n",
       "      <th>21413</th>\n",
       "      <td>LexisNexis withdrew two products from Chinese ...</td>\n",
       "      <td>LONDON (Reuters) - LexisNexis, a provider of l...</td>\n",
       "    </tr>\n",
       "    <tr>\n",
       "      <th>21414</th>\n",
       "      <td>Minsk cultural hub becomes haven from authorities</td>\n",
       "      <td>MINSK (Reuters) - In the shadow of disused Sov...</td>\n",
       "    </tr>\n",
       "    <tr>\n",
       "      <th>21415</th>\n",
       "      <td>Vatican upbeat on possibility of Pope Francis ...</td>\n",
       "      <td>MOSCOW (Reuters) - Vatican Secretary of State ...</td>\n",
       "    </tr>\n",
       "    <tr>\n",
       "      <th>21416</th>\n",
       "      <td>Indonesia to buy $1.14 billion worth of Russia...</td>\n",
       "      <td>JAKARTA (Reuters) - Indonesia will buy 11 Sukh...</td>\n",
       "    </tr>\n",
       "  </tbody>\n",
       "</table>\n",
       "<p>21417 rows × 2 columns</p>\n",
       "</div>"
      ],
      "text/plain": [
       "                                                   title  \\\n",
       "0      As U.S. budget fight looms, Republicans flip t...   \n",
       "1      U.S. military to accept transgender recruits o...   \n",
       "2      Senior U.S. Republican senator: 'Let Mr. Muell...   \n",
       "3      FBI Russia probe helped by Australian diplomat...   \n",
       "4      Trump wants Postal Service to charge 'much mor...   \n",
       "...                                                  ...   \n",
       "21412  'Fully committed' NATO backs new U.S. approach...   \n",
       "21413  LexisNexis withdrew two products from Chinese ...   \n",
       "21414  Minsk cultural hub becomes haven from authorities   \n",
       "21415  Vatican upbeat on possibility of Pope Francis ...   \n",
       "21416  Indonesia to buy $1.14 billion worth of Russia...   \n",
       "\n",
       "                                                    text  \n",
       "0      WASHINGTON (Reuters) - The head of a conservat...  \n",
       "1      WASHINGTON (Reuters) - Transgender people will...  \n",
       "2      WASHINGTON (Reuters) - The special counsel inv...  \n",
       "3      WASHINGTON (Reuters) - Trump campaign adviser ...  \n",
       "4      SEATTLE/WASHINGTON (Reuters) - President Donal...  \n",
       "...                                                  ...  \n",
       "21412  BRUSSELS (Reuters) - NATO allies on Tuesday we...  \n",
       "21413  LONDON (Reuters) - LexisNexis, a provider of l...  \n",
       "21414  MINSK (Reuters) - In the shadow of disused Sov...  \n",
       "21415  MOSCOW (Reuters) - Vatican Secretary of State ...  \n",
       "21416  JAKARTA (Reuters) - Indonesia will buy 11 Sukh...  \n",
       "\n",
       "[21417 rows x 2 columns]"
      ]
     },
     "execution_count": 3,
     "metadata": {},
     "output_type": "execute_result"
    }
   ],
   "source": [
    "# Importing data\n",
    "fake = pd.read_csv('Fake.csv')\n",
    "real = pd.read_csv('True.csv')\n",
    "\n",
    "# Removing unneedded columns\n",
    "fake.drop(['subject','date'], axis=1)\n",
    "real.drop(['subject', 'date'], axis=1)"
   ]
  },
  {
   "cell_type": "code",
   "execution_count": 5,
   "id": "85177ed2",
   "metadata": {
    "scrolled": true
   },
   "outputs": [
    {
     "data": {
      "text/html": [
       "<div>\n",
       "<style scoped>\n",
       "    .dataframe tbody tr th:only-of-type {\n",
       "        vertical-align: middle;\n",
       "    }\n",
       "\n",
       "    .dataframe tbody tr th {\n",
       "        vertical-align: top;\n",
       "    }\n",
       "\n",
       "    .dataframe thead th {\n",
       "        text-align: right;\n",
       "    }\n",
       "</style>\n",
       "<table border=\"1\" class=\"dataframe\">\n",
       "  <thead>\n",
       "    <tr style=\"text-align: right;\">\n",
       "      <th></th>\n",
       "      <th>title</th>\n",
       "      <th>text</th>\n",
       "      <th>subject</th>\n",
       "      <th>date</th>\n",
       "      <th>label</th>\n",
       "    </tr>\n",
       "  </thead>\n",
       "  <tbody>\n",
       "    <tr>\n",
       "      <th>0</th>\n",
       "      <td>Despite apology, Indonesia asks why U.S. block...</td>\n",
       "      <td>JAKARTA (Reuters) - Indonesia said on Monday i...</td>\n",
       "      <td>worldnews</td>\n",
       "      <td>October 23, 2017</td>\n",
       "      <td>real</td>\n",
       "    </tr>\n",
       "    <tr>\n",
       "      <th>1</th>\n",
       "      <td>BREAKING: WIKILEAKS EMAILS SUGGEST Supreme Cou...</td>\n",
       "      <td>Here s what we ve got with the new e-mails and...</td>\n",
       "      <td>left-news</td>\n",
       "      <td>Oct 13, 2016</td>\n",
       "      <td>fake</td>\n",
       "    </tr>\n",
       "    <tr>\n",
       "      <th>2</th>\n",
       "      <td>Factbox: Trump fills top jobs for his administ...</td>\n",
       "      <td>(Reuters) - U.S. President-elect Donald Trump ...</td>\n",
       "      <td>politicsNews</td>\n",
       "      <td>December 7, 2016</td>\n",
       "      <td>real</td>\n",
       "    </tr>\n",
       "    <tr>\n",
       "      <th>3</th>\n",
       "      <td>DONALD TRUMP’S Touching Gesture After Rally Ca...</td>\n",
       "      <td>The Americans who ve lost a loved one to an il...</td>\n",
       "      <td>politics</td>\n",
       "      <td>May 29, 2016</td>\n",
       "      <td>fake</td>\n",
       "    </tr>\n",
       "    <tr>\n",
       "      <th>4</th>\n",
       "      <td>Spy chiefs pressure Congress to renew expiring...</td>\n",
       "      <td>WASHINGTON (Reuters) - The leaders of the U.S....</td>\n",
       "      <td>politicsNews</td>\n",
       "      <td>December 21, 2017</td>\n",
       "      <td>real</td>\n",
       "    </tr>\n",
       "  </tbody>\n",
       "</table>\n",
       "</div>"
      ],
      "text/plain": [
       "                                               title  \\\n",
       "0  Despite apology, Indonesia asks why U.S. block...   \n",
       "1  BREAKING: WIKILEAKS EMAILS SUGGEST Supreme Cou...   \n",
       "2  Factbox: Trump fills top jobs for his administ...   \n",
       "3  DONALD TRUMP’S Touching Gesture After Rally Ca...   \n",
       "4  Spy chiefs pressure Congress to renew expiring...   \n",
       "\n",
       "                                                text       subject  \\\n",
       "0  JAKARTA (Reuters) - Indonesia said on Monday i...     worldnews   \n",
       "1  Here s what we ve got with the new e-mails and...     left-news   \n",
       "2  (Reuters) - U.S. President-elect Donald Trump ...  politicsNews   \n",
       "3  The Americans who ve lost a loved one to an il...      politics   \n",
       "4  WASHINGTON (Reuters) - The leaders of the U.S....  politicsNews   \n",
       "\n",
       "                 date label  \n",
       "0   October 23, 2017   real  \n",
       "1        Oct 13, 2016  fake  \n",
       "2   December 7, 2016   real  \n",
       "3        May 29, 2016  fake  \n",
       "4  December 21, 2017   real  "
      ]
     },
     "execution_count": 5,
     "metadata": {},
     "output_type": "execute_result"
    }
   ],
   "source": [
    "# Labelling data before concatenation\n",
    "fake['label'] = 'fake'\n",
    "real['label'] = 'real'\n",
    "\n",
    "# Concatenate data an shuffle the items\n",
    "datas = pd.concat([fake,real], axis=0)\n",
    "datas = datas.sample(frac=1).reset_index(drop=True)\n",
    "datas.head()"
   ]
  },
  {
   "cell_type": "code",
   "execution_count": 6,
   "id": "c5cf68a4",
   "metadata": {
    "scrolled": true
   },
   "outputs": [
    {
     "name": "stdout",
     "output_type": "stream",
     "text": [
      "(11225,)\n"
     ]
    }
   ],
   "source": [
    "# Splitting the data\n",
    "X_train, X_test, y_train, y_test = train_test_split(datas['text'], datas['label'], test_size=0.25)\n",
    "print(np.array(X_test).shape)"
   ]
  },
  {
   "cell_type": "code",
   "execution_count": 7,
   "id": "6bd27b52",
   "metadata": {},
   "outputs": [
    {
     "name": "stderr",
     "output_type": "stream",
     "text": [
      "[nltk_data] Downloading package stopwords to\n",
      "[nltk_data]     C:\\Users\\franz\\AppData\\Roaming\\nltk_data...\n",
      "[nltk_data]   Package stopwords is already up-to-date!\n"
     ]
    }
   ],
   "source": [
    "\n",
    "nltk.download('stopwords')\n",
    "my_tfidf = TfidfVectorizer(stop_words='english', max_df=0.7)\n",
    "\n",
    "tfidf_train = my_tfidf.fit_transform(X_train)\n",
    "tfidf_test = my_tfidf.transform(X_test)"
   ]
  },
  {
   "cell_type": "code",
   "execution_count": 8,
   "id": "c6a241c3",
   "metadata": {},
   "outputs": [
    {
     "data": {
      "text/html": [
       "<style>#sk-container-id-1 {color: black;background-color: white;}#sk-container-id-1 pre{padding: 0;}#sk-container-id-1 div.sk-toggleable {background-color: white;}#sk-container-id-1 label.sk-toggleable__label {cursor: pointer;display: block;width: 100%;margin-bottom: 0;padding: 0.3em;box-sizing: border-box;text-align: center;}#sk-container-id-1 label.sk-toggleable__label-arrow:before {content: \"▸\";float: left;margin-right: 0.25em;color: #696969;}#sk-container-id-1 label.sk-toggleable__label-arrow:hover:before {color: black;}#sk-container-id-1 div.sk-estimator:hover label.sk-toggleable__label-arrow:before {color: black;}#sk-container-id-1 div.sk-toggleable__content {max-height: 0;max-width: 0;overflow: hidden;text-align: left;background-color: #f0f8ff;}#sk-container-id-1 div.sk-toggleable__content pre {margin: 0.2em;color: black;border-radius: 0.25em;background-color: #f0f8ff;}#sk-container-id-1 input.sk-toggleable__control:checked~div.sk-toggleable__content {max-height: 200px;max-width: 100%;overflow: auto;}#sk-container-id-1 input.sk-toggleable__control:checked~label.sk-toggleable__label-arrow:before {content: \"▾\";}#sk-container-id-1 div.sk-estimator input.sk-toggleable__control:checked~label.sk-toggleable__label {background-color: #d4ebff;}#sk-container-id-1 div.sk-label input.sk-toggleable__control:checked~label.sk-toggleable__label {background-color: #d4ebff;}#sk-container-id-1 input.sk-hidden--visually {border: 0;clip: rect(1px 1px 1px 1px);clip: rect(1px, 1px, 1px, 1px);height: 1px;margin: -1px;overflow: hidden;padding: 0;position: absolute;width: 1px;}#sk-container-id-1 div.sk-estimator {font-family: monospace;background-color: #f0f8ff;border: 1px dotted black;border-radius: 0.25em;box-sizing: border-box;margin-bottom: 0.5em;}#sk-container-id-1 div.sk-estimator:hover {background-color: #d4ebff;}#sk-container-id-1 div.sk-parallel-item::after {content: \"\";width: 100%;border-bottom: 1px solid gray;flex-grow: 1;}#sk-container-id-1 div.sk-label:hover label.sk-toggleable__label {background-color: #d4ebff;}#sk-container-id-1 div.sk-serial::before {content: \"\";position: absolute;border-left: 1px solid gray;box-sizing: border-box;top: 0;bottom: 0;left: 50%;z-index: 0;}#sk-container-id-1 div.sk-serial {display: flex;flex-direction: column;align-items: center;background-color: white;padding-right: 0.2em;padding-left: 0.2em;position: relative;}#sk-container-id-1 div.sk-item {position: relative;z-index: 1;}#sk-container-id-1 div.sk-parallel {display: flex;align-items: stretch;justify-content: center;background-color: white;position: relative;}#sk-container-id-1 div.sk-item::before, #sk-container-id-1 div.sk-parallel-item::before {content: \"\";position: absolute;border-left: 1px solid gray;box-sizing: border-box;top: 0;bottom: 0;left: 50%;z-index: -1;}#sk-container-id-1 div.sk-parallel-item {display: flex;flex-direction: column;z-index: 1;position: relative;background-color: white;}#sk-container-id-1 div.sk-parallel-item:first-child::after {align-self: flex-end;width: 50%;}#sk-container-id-1 div.sk-parallel-item:last-child::after {align-self: flex-start;width: 50%;}#sk-container-id-1 div.sk-parallel-item:only-child::after {width: 0;}#sk-container-id-1 div.sk-dashed-wrapped {border: 1px dashed gray;margin: 0 0.4em 0.5em 0.4em;box-sizing: border-box;padding-bottom: 0.4em;background-color: white;}#sk-container-id-1 div.sk-label label {font-family: monospace;font-weight: bold;display: inline-block;line-height: 1.2em;}#sk-container-id-1 div.sk-label-container {text-align: center;}#sk-container-id-1 div.sk-container {/* jupyter's `normalize.less` sets `[hidden] { display: none; }` but bootstrap.min.css set `[hidden] { display: none !important; }` so we also need the `!important` here to be able to override the default hidden behavior on the sphinx rendered scikit-learn.org. See: https://github.com/scikit-learn/scikit-learn/issues/21755 */display: inline-block !important;position: relative;}#sk-container-id-1 div.sk-text-repr-fallback {display: none;}</style><div id=\"sk-container-id-1\" class=\"sk-top-container\"><div class=\"sk-text-repr-fallback\"><pre>PassiveAggressiveClassifier()</pre><b>In a Jupyter environment, please rerun this cell to show the HTML representation or trust the notebook. <br />On GitHub, the HTML representation is unable to render, please try loading this page with nbviewer.org.</b></div><div class=\"sk-container\" hidden><div class=\"sk-item\"><div class=\"sk-estimator sk-toggleable\"><input class=\"sk-toggleable__control sk-hidden--visually\" id=\"sk-estimator-id-1\" type=\"checkbox\" checked><label for=\"sk-estimator-id-1\" class=\"sk-toggleable__label sk-toggleable__label-arrow\">PassiveAggressiveClassifier</label><div class=\"sk-toggleable__content\"><pre>PassiveAggressiveClassifier()</pre></div></div></div></div></div>"
      ],
      "text/plain": [
       "PassiveAggressiveClassifier()"
      ]
     },
     "execution_count": 8,
     "metadata": {},
     "output_type": "execute_result"
    }
   ],
   "source": [
    "from sklearn.linear_model import PassiveAggressiveClassifier\n",
    "\n",
    "pa_clf = PassiveAggressiveClassifier()\n",
    "pa_clf.fit(tfidf_train, y_train)"
   ]
  },
  {
   "cell_type": "code",
   "execution_count": 37,
   "id": "48ed1cc6",
   "metadata": {},
   "outputs": [
    {
     "name": "stdout",
     "output_type": "stream",
     "text": [
      "The accuracy of prediction is 99.47%.\n",
      "\n",
      "The F1 score is 0.994.\n",
      "\n"
     ]
    },
    {
     "data": {
      "image/png": "[encoded data removed]",
      "text/plain": [
       "<Figure size 432x288 with 2 Axes>"
      ]
     },
     "metadata": {
      "needs_background": "light"
     },
     "output_type": "display_data"
    }
   ],
   "source": [
    "pa_pred = pa_clf.predict(tfidf_test)\n",
    "\n",
    "conf_mat = confusion_matrix(y_test, pa_pred)\n",
    "plot_confusion_matrix(conf_mat,\n",
    "                      show_normed=True, colorbar=True,\n",
    "                      class_names=['Fake', 'Real'])\n",
    "\n",
    "accscore = accuracy_score(y_test, pa_pred)\n",
    "f1score = f1_score(y_test,pa_pred,pos_label='real')\n",
    "\n",
    "print('The accuracy of prediction is {:.2f}%.\\n'.format(accscore*100))\n",
    "print('The F1 score is {:.3f}.\\n'.format(f1score))"
   ]
  },
  {
   "cell_type": "code",
   "execution_count": 38,
   "id": "334870cb",
   "metadata": {},
   "outputs": [
    {
     "name": "stdout",
     "output_type": "stream",
     "text": [
      "The accuracy of prediction is 99.38%.\n",
      "\n",
      "The F1 score is 0.993.\n",
      "\n"
     ]
    },
    {
     "data": {
      "image/png": "[encoded data removed]",
      "text/plain": [
       "<Figure size 432x288 with 2 Axes>"
      ]
     },
     "metadata": {
      "needs_background": "light"
     },
     "output_type": "display_data"
    }
   ],
   "source": [
    "from sklearn.linear_model import LogisticRegression\n",
    "lr_clf = LogisticRegression(random_state = 0, penalty='l1', solver='saga', max_iter=1000)\n",
    "lr_clf.fit(tfidf_train, y_train)\n",
    "lr_pred = lr_clf.predict(tfidf_test)\n",
    "\n",
    "conf_mat = confusion_matrix(y_test, lr_pred)\n",
    "plot_confusion_matrix(conf_mat,\n",
    "                      show_normed=True, colorbar=True,\n",
    "                      class_names=['Fake', 'Real'])\n",
    "\n",
    "accscore = accuracy_score(y_test, lr_pred)\n",
    "f1score = f1_score(y_test,lr_pred,pos_label='real')\n",
    "print('The accuracy of prediction is {:.2f}%.\\n'.format(accscore*100))\n",
    "print('The F1 score is {:.3f}.\\n'.format(f1score))"
   ]
  },
  {
   "cell_type": "code",
   "execution_count": 11,
   "id": "a056cca8",
   "metadata": {},
   "outputs": [
    {
     "name": "stdout",
     "output_type": "stream",
     "text": [
      "[0.9937639198218263, 0.9946547884187082]\n"
     ]
    },
    {
     "data": {
      "text/plain": [
       "Text(0.5, 1.0, 'Model Accuracies')"
      ]
     },
     "execution_count": 11,
     "metadata": {},
     "output_type": "execute_result"
    },
    {
     "data": {
      "image/png": "[encoded data removed]",
      "text/plain": [
       "<Figure size 432x288 with 1 Axes>"
      ]
     },
     "metadata": {
      "needs_background": "light"
     },
     "output_type": "display_data"
    }
   ],
   "source": [
    "models = [\"Logistic Regression\", \"Passive Agressive\"]\n",
    "accuracies = [accuracy_score(y_test, lr_pred), accuracy_score(y_test, pa_pred)]\n",
    "print(accuracies)\n",
    "\n",
    "plt.bar(models, accuracies)\n",
    "plt.ylabel(\"Accuracy\")\n",
    "plt.title(\"Model Accuracies\")"
   ]
  },
  {
   "cell_type": "code",
   "execution_count": 34,
   "id": "a8b32203",
   "metadata": {},
   "outputs": [
    {
     "name": "stdout",
     "output_type": "stream",
     "text": [
      "Passive Aggressive: ['fake']\n",
      "Logistic Regression: ['fake']\n"
     ]
    }
   ],
   "source": [
    "testing = my_tfidf.transform([\"Former President Barack Obama announced late last night that he had filed for divorce from his wife of 27 years, Michelle Obama, after he revealed a secret double life as a homosexual. “It is with a bit of sadness and a whole lot of relief that I announce that Michelle and I have decided to separate, as I have admitted to her, as I’m doing now to the rest of the world, that I am a homosexual,” said Barack Obama. “This may come as a shock to many, and anger others, but this is my personal business, and I would hope that everyone could respect my privacy at this time” Representatives for Michelle Obama said that she and the former president would split amicably, and that Michelle herself was “not particularly shocked” by the revelation. “We are very close, as close as two people could ever be, really,” said Michelle in a prepared statement. “I’ve known for many years about Barack’s secret life, and I fully support him in the direction that his life takes him. He was and is an incredible leader, a loving father and family man, and now he can go on to make some other guy, or multiple guys, very happy.” “Honestly, I was prepared to just stay with her,” said Barack. “I think she’s secretly know for years that I was gay, and since it already came out in every conservative news site years ago that Michelle was actually born a man, I figured that was close enough. I was prepared to stick it out and keep having young guys on the side. Michelle nixed it, though. She said if this was going to become public news, then there’s no reason we shouldn’t just split up and reveal our true selves. Whoops, I guess I just proved those rumors about her secret to be true, too. Damn, sorry Michelle!” Representatives for the Obama children, Malia and Sasha, could not be reached for comment, but their Facebook pages both were vacant of any comments on the split.\"])\n",
    "print(\"Passive Aggressive: \" + str(pa_clf.predict(testing)))\n",
    "print(\"Logistic Regression: \" + str(lr_clf.predict(testing)))"
   ]
  },
  {
   "cell_type": "code",
   "execution_count": 35,
   "id": "e1aa8b15",
   "metadata": {},
   "outputs": [],
   "source": [
    "def detectFake(content):\n",
    "    \"\"\"Function where you can input news content and it will return whether the 3 models believe it to be fake or real news\"\"\"\n",
    "    content_tf = my_tfidf.transform([content])\n",
    "    print(\"Judgement of each model:\")\n",
    "    print(\"\\tPassive Aggressive: \" + str(pa_clf.predict(content_tf)))\n",
    "    print(\"\\tLogistic Regression: \" + str(lr_clf.predict(content_tf)))\n",
    "    \n",
    "    if str(pa_clf.predict(content_tf))==\"['real']\":\n",
    "        var_pa = 1.0\n",
    "    else:\n",
    "        var_pa = 0.0\n",
    "    if str(lr_clf.predict(content_tf))==\"['real']\":\n",
    "        var_lr = 1.0\n",
    "    else:\n",
    "        var_lr = 0.0  \n",
    "        \n",
    "    #Gets weighted average to make final judgement whether the news is true or false\n",
    "    X = np.stack([pa_pred, lr_pred], 1)\n",
    "    X = (X == 'real').astype(np.float32)\n",
    "    weights = np.linalg.inv(X.T@X)@(X.T@(y_test == 'real').astype(np.float32))\n",
    "    y = X@weights\n",
    "    y = np.where(y > 0.99, 'real', 'fake')\n",
    "    print(weights)\n",
    "    print( accuracy_score(y_test, y))\n",
    "    gwa = (weights[0] * var_pa) + (weights[1] * var_lr)\n",
    "    if gwa >= 0.5:\n",
    "        print(\"\\nWe believe that the news is true\")\n",
    "    else:\n",
    "        print(\"\\nWe believe that the news is false\")"
   ]
  },
  {
   "cell_type": "code",
   "execution_count": 36,
   "id": "ed8763c6",
   "metadata": {
    "scrolled": true
   },
   "outputs": [
    {
     "name": "stdout",
     "output_type": "stream",
     "text": [
      "Judgement of each model:\n",
      "\tPassive Aggressive: ['fake']\n",
      "\tLogistic Regression: ['fake']\n",
      "[0.5432968  0.45576096]\n",
      "0.9946547884187082\n",
      "\n",
      "We believe that the news is false\n"
     ]
    }
   ],
   "source": [
    "detectFake(\"Marcos breaks silence, says Maharlika fund advantageous ‘for sure\")"
   ]
  },
  {
   "cell_type": "markdown",
   "id": "e11b1521",
   "metadata": {},
   "source": [
    "# Philippine Dataset"
   ]
  },
  {
   "cell_type": "code",
   "execution_count": 17,
   "id": "182eab60",
   "metadata": {},
   "outputs": [
    {
     "data": {
      "text/html": [
       "<div>\n",
       "<style scoped>\n",
       "    .dataframe tbody tr th:only-of-type {\n",
       "        vertical-align: middle;\n",
       "    }\n",
       "\n",
       "    .dataframe tbody tr th {\n",
       "        vertical-align: top;\n",
       "    }\n",
       "\n",
       "    .dataframe thead th {\n",
       "        text-align: right;\n",
       "    }\n",
       "</style>\n",
       "<table border=\"1\" class=\"dataframe\">\n",
       "  <thead>\n",
       "    <tr style=\"text-align: right;\">\n",
       "      <th></th>\n",
       "      <th>label</th>\n",
       "      <th>article</th>\n",
       "    </tr>\n",
       "  </thead>\n",
       "  <tbody>\n",
       "    <tr>\n",
       "      <th>0</th>\n",
       "      <td>0</td>\n",
       "      <td>Ayon sa TheWrap.com, naghain ng kaso si Krupa,...</td>\n",
       "    </tr>\n",
       "    <tr>\n",
       "      <th>1</th>\n",
       "      <td>0</td>\n",
       "      <td>Kilala rin ang singer sa pagkumpas ng kanyang ...</td>\n",
       "    </tr>\n",
       "    <tr>\n",
       "      <th>2</th>\n",
       "      <td>0</td>\n",
       "      <td>BLANTYRE, Malawi (AP) -- Bumiyahe patungong Ma...</td>\n",
       "    </tr>\n",
       "    <tr>\n",
       "      <th>3</th>\n",
       "      <td>0</td>\n",
       "      <td>Kasama sa programa ang pananalangin, bulaklak ...</td>\n",
       "    </tr>\n",
       "    <tr>\n",
       "      <th>4</th>\n",
       "      <td>0</td>\n",
       "      <td>Linisin ang Friendship Department dahil dadala...</td>\n",
       "    </tr>\n",
       "  </tbody>\n",
       "</table>\n",
       "</div>"
      ],
      "text/plain": [
       "   label                                            article\n",
       "0      0  Ayon sa TheWrap.com, naghain ng kaso si Krupa,...\n",
       "1      0  Kilala rin ang singer sa pagkumpas ng kanyang ...\n",
       "2      0  BLANTYRE, Malawi (AP) -- Bumiyahe patungong Ma...\n",
       "3      0  Kasama sa programa ang pananalangin, bulaklak ...\n",
       "4      0  Linisin ang Friendship Department dahil dadala..."
      ]
     },
     "execution_count": 17,
     "metadata": {},
     "output_type": "execute_result"
    }
   ],
   "source": [
    "# Importing data\n",
    "ph_data = pd.read_csv('ph.csv')\n",
    "ph_data.head()"
   ]
  },
  {
   "cell_type": "code",
   "execution_count": 18,
   "id": "414e8deb",
   "metadata": {},
   "outputs": [
    {
     "name": "stdout",
     "output_type": "stream",
     "text": [
      "(802,)\n"
     ]
    }
   ],
   "source": [
    "Xph_train, Xph_test, yph_train, yph_test = train_test_split(ph_data['article'], ph_data['label'], test_size=0.25)\n",
    "print(np.array(Xph_test).shape)"
   ]
  },
  {
   "cell_type": "code",
   "execution_count": 19,
   "id": "c68f97e5",
   "metadata": {},
   "outputs": [],
   "source": [
    "import stopwordsiso as sw\n",
    "ph_tfidf = TfidfVectorizer(stop_words=sw.stopwords(\"tl\"), max_df=0.7)\n",
    "\n",
    "ph_tfidf_train = ph_tfidf.fit_transform(Xph_train)\n",
    "ph_tfidf_test = ph_tfidf.transform(Xph_test)"
   ]
  },
  {
   "cell_type": "code",
   "execution_count": 20,
   "id": "22e45ce2",
   "metadata": {},
   "outputs": [
    {
     "data": {
      "text/html": [
       "<style>#sk-container-id-2 {color: black;background-color: white;}#sk-container-id-2 pre{padding: 0;}#sk-container-id-2 div.sk-toggleable {background-color: white;}#sk-container-id-2 label.sk-toggleable__label {cursor: pointer;display: block;width: 100%;margin-bottom: 0;padding: 0.3em;box-sizing: border-box;text-align: center;}#sk-container-id-2 label.sk-toggleable__label-arrow:before {content: \"▸\";float: left;margin-right: 0.25em;color: #696969;}#sk-container-id-2 label.sk-toggleable__label-arrow:hover:before {color: black;}#sk-container-id-2 div.sk-estimator:hover label.sk-toggleable__label-arrow:before {color: black;}#sk-container-id-2 div.sk-toggleable__content {max-height: 0;max-width: 0;overflow: hidden;text-align: left;background-color: #f0f8ff;}#sk-container-id-2 div.sk-toggleable__content pre {margin: 0.2em;color: black;border-radius: 0.25em;background-color: #f0f8ff;}#sk-container-id-2 input.sk-toggleable__control:checked~div.sk-toggleable__content {max-height: 200px;max-width: 100%;overflow: auto;}#sk-container-id-2 input.sk-toggleable__control:checked~label.sk-toggleable__label-arrow:before {content: \"▾\";}#sk-container-id-2 div.sk-estimator input.sk-toggleable__control:checked~label.sk-toggleable__label {background-color: #d4ebff;}#sk-container-id-2 div.sk-label input.sk-toggleable__control:checked~label.sk-toggleable__label {background-color: #d4ebff;}#sk-container-id-2 input.sk-hidden--visually {border: 0;clip: rect(1px 1px 1px 1px);clip: rect(1px, 1px, 1px, 1px);height: 1px;margin: -1px;overflow: hidden;padding: 0;position: absolute;width: 1px;}#sk-container-id-2 div.sk-estimator {font-family: monospace;background-color: #f0f8ff;border: 1px dotted black;border-radius: 0.25em;box-sizing: border-box;margin-bottom: 0.5em;}#sk-container-id-2 div.sk-estimator:hover {background-color: #d4ebff;}#sk-container-id-2 div.sk-parallel-item::after {content: \"\";width: 100%;border-bottom: 1px solid gray;flex-grow: 1;}#sk-container-id-2 div.sk-label:hover label.sk-toggleable__label {background-color: #d4ebff;}#sk-container-id-2 div.sk-serial::before {content: \"\";position: absolute;border-left: 1px solid gray;box-sizing: border-box;top: 0;bottom: 0;left: 50%;z-index: 0;}#sk-container-id-2 div.sk-serial {display: flex;flex-direction: column;align-items: center;background-color: white;padding-right: 0.2em;padding-left: 0.2em;position: relative;}#sk-container-id-2 div.sk-item {position: relative;z-index: 1;}#sk-container-id-2 div.sk-parallel {display: flex;align-items: stretch;justify-content: center;background-color: white;position: relative;}#sk-container-id-2 div.sk-item::before, #sk-container-id-2 div.sk-parallel-item::before {content: \"\";position: absolute;border-left: 1px solid gray;box-sizing: border-box;top: 0;bottom: 0;left: 50%;z-index: -1;}#sk-container-id-2 div.sk-parallel-item {display: flex;flex-direction: column;z-index: 1;position: relative;background-color: white;}#sk-container-id-2 div.sk-parallel-item:first-child::after {align-self: flex-end;width: 50%;}#sk-container-id-2 div.sk-parallel-item:last-child::after {align-self: flex-start;width: 50%;}#sk-container-id-2 div.sk-parallel-item:only-child::after {width: 0;}#sk-container-id-2 div.sk-dashed-wrapped {border: 1px dashed gray;margin: 0 0.4em 0.5em 0.4em;box-sizing: border-box;padding-bottom: 0.4em;background-color: white;}#sk-container-id-2 div.sk-label label {font-family: monospace;font-weight: bold;display: inline-block;line-height: 1.2em;}#sk-container-id-2 div.sk-label-container {text-align: center;}#sk-container-id-2 div.sk-container {/* jupyter's `normalize.less` sets `[hidden] { display: none; }` but bootstrap.min.css set `[hidden] { display: none !important; }` so we also need the `!important` here to be able to override the default hidden behavior on the sphinx rendered scikit-learn.org. See: https://github.com/scikit-learn/scikit-learn/issues/21755 */display: inline-block !important;position: relative;}#sk-container-id-2 div.sk-text-repr-fallback {display: none;}</style><div id=\"sk-container-id-2\" class=\"sk-top-container\"><div class=\"sk-text-repr-fallback\"><pre>PassiveAggressiveClassifier()</pre><b>In a Jupyter environment, please rerun this cell to show the HTML representation or trust the notebook. <br />On GitHub, the HTML representation is unable to render, please try loading this page with nbviewer.org.</b></div><div class=\"sk-container\" hidden><div class=\"sk-item\"><div class=\"sk-estimator sk-toggleable\"><input class=\"sk-toggleable__control sk-hidden--visually\" id=\"sk-estimator-id-2\" type=\"checkbox\" checked><label for=\"sk-estimator-id-2\" class=\"sk-toggleable__label sk-toggleable__label-arrow\">PassiveAggressiveClassifier</label><div class=\"sk-toggleable__content\"><pre>PassiveAggressiveClassifier()</pre></div></div></div></div></div>"
      ],
      "text/plain": [
       "PassiveAggressiveClassifier()"
      ]
     },
     "execution_count": 20,
     "metadata": {},
     "output_type": "execute_result"
    }
   ],
   "source": [
    "# Passive Aggressive Classifier\n",
    "\n",
    "ph_pa_clf = PassiveAggressiveClassifier()\n",
    "ph_pa_clf.fit(ph_tfidf_train, yph_train)"
   ]
  },
  {
   "cell_type": "code",
   "execution_count": 39,
   "id": "62c7494b",
   "metadata": {},
   "outputs": [
    {
     "name": "stdout",
     "output_type": "stream",
     "text": [
      "The accuracy of prediction is 96.51%.\n",
      "\n",
      "The F1 score is 0.965.\n",
      "\n"
     ]
    },
    {
     "data": {
      "image/png": "[encoded data removed]",
      "text/plain": [
       "<Figure size 432x288 with 2 Axes>"
      ]
     },
     "metadata": {
      "needs_background": "light"
     },
     "output_type": "display_data"
    }
   ],
   "source": [
    "ph_pa_pred = ph_pa_clf.predict(ph_tfidf_test)\n",
    "\n",
    "conf_mat = confusion_matrix(yph_test, ph_pa_pred)\n",
    "plot_confusion_matrix(conf_mat,\n",
    "                      show_normed=True, colorbar=True,\n",
    "                      class_names=['Fake', 'Real'])\n",
    "\n",
    "accscore = accuracy_score(yph_test, ph_pa_pred)\n",
    "f1score = f1_score(yph_test,ph_pa_pred)\n",
    "\n",
    "print('The accuracy of prediction is {:.2f}%.\\n'.format(accscore*100))\n",
    "print('The F1 score is {:.3f}.\\n'.format(f1score))"
   ]
  },
  {
   "cell_type": "code",
   "execution_count": 40,
   "id": "3b0ceb26",
   "metadata": {
    "scrolled": true
   },
   "outputs": [
    {
     "name": "stdout",
     "output_type": "stream",
     "text": [
      "The accuracy of prediction is 92.64%.\n",
      "\n",
      "The F1 score is 0.925.\n",
      "\n"
     ]
    },
    {
     "data": {
      "image/png": "[encoded data removed]",
      "text/plain": [
       "<Figure size 432x288 with 2 Axes>"
      ]
     },
     "metadata": {
      "needs_background": "light"
     },
     "output_type": "display_data"
    }
   ],
   "source": [
    "# Logistic Regression\n",
    "ph_lr_clf = LogisticRegression(random_state = 0, penalty='l2', solver='saga', max_iter=5000)\n",
    "ph_lr_clf.fit(ph_tfidf_train, yph_train)\n",
    "ph_lr_pred = ph_lr_clf.predict(ph_tfidf_test)\n",
    "\n",
    "conf_mat = confusion_matrix(yph_test, ph_lr_pred)\n",
    "plot_confusion_matrix(conf_mat,\n",
    "                      show_normed=True, colorbar=True,\n",
    "                      class_names=['Fake', 'Real'])\n",
    "\n",
    "accscore = accuracy_score(yph_test, ph_lr_pred)\n",
    "f1score = f1_score(yph_test,ph_lr_pred)\n",
    "print('The accuracy of prediction is {:.2f}%.\\n'.format(accscore*100))\n",
    "print('The F1 score is {:.3f}.\\n'.format(f1score))"
   ]
  },
  {
   "cell_type": "code",
   "execution_count": 23,
   "id": "a4684604",
   "metadata": {},
   "outputs": [
    {
     "name": "stdout",
     "output_type": "stream",
     "text": [
      "[0.92643391521197, 0.9650872817955112]\n"
     ]
    },
    {
     "data": {
      "text/plain": [
       "Text(0.5, 1.0, 'Model Accuracies')"
      ]
     },
     "execution_count": 23,
     "metadata": {},
     "output_type": "execute_result"
    },
    {
     "data": {
      "image/png": "[encoded data removed]",
      "text/plain": [
       "<Figure size 432x288 with 1 Axes>"
      ]
     },
     "metadata": {
      "needs_background": "light"
     },
     "output_type": "display_data"
    }
   ],
   "source": [
    "phmodels = [\"Logistic Regression\", \"Passive Agressive\"]\n",
    "phaccuracies = [accuracy_score(yph_test, ph_lr_pred), accuracy_score(yph_test, ph_pa_pred)]\n",
    "print(phaccuracies)\n",
    "\n",
    "plt.bar(phmodels, phaccuracies)\n",
    "plt.ylabel(\"Accuracy\")\n",
    "plt.title(\"Model Accuracies\")"
   ]
  },
  {
   "cell_type": "code",
   "execution_count": 24,
   "id": "060691a7",
   "metadata": {},
   "outputs": [
    {
     "name": "stdout",
     "output_type": "stream",
     "text": [
      "[0.88774014 0.06953335]\n",
      "0.9650872817955112\n"
     ]
    }
   ],
   "source": [
    "Xph = np.stack([ph_pa_pred, ph_lr_pred], 1)\n",
    "Xph = (Xph == 0).astype(np.float32)\n",
    "\n",
    "weights = np.linalg.inv(Xph.T@Xph)@(Xph.T@(yph_test == 0).astype(np.float32))\n",
    "yph = Xph@weights\n",
    "yph = np.where(yph > 0.5, 0, 1)\n",
    "\n",
    "print(weights)\n",
    "print( accuracy_score(yph_test, yph))"
   ]
  },
  {
   "cell_type": "code",
   "execution_count": 42,
   "id": "b51ba1ad",
   "metadata": {},
   "outputs": [],
   "source": [
    "def detectFakePH(content):\n",
    "    \"\"\"Function where you can input news content and it will return whether the 3 models believe it to be fake or real news\"\"\"\n",
    "    phcontent_tf = ph_tfidf.transform([content])\n",
    "    print(\"Judgement of each model:\")\n",
    "    print(\"\\tPassive Aggressive: \" + str(ph_pa_clf.predict(phcontent_tf)))\n",
    "    print(\"\\tLogistic Regression: \" + str(ph_lr_clf.predict(phcontent_tf)))\n",
    "    \n",
    "    if ph_pa_clf.predict(phcontent_tf)==0:\n",
    "        phvar_pa = 1.0\n",
    "    else:\n",
    "        phvar_pa = 0.0\n",
    "    if ph_lr_clf.predict(phcontent_tf)==0:\n",
    "        phvar_lr = 1.0\n",
    "    else:\n",
    "        phvar_lr = 0.0  \n",
    "        \n",
    "    #Gets weighted average to make final judgement whether the news is true or false\n",
    "    Xph = np.stack([ph_pa_pred, ph_lr_pred], 1)\n",
    "    Xph = (Xph == 0).astype(np.float32)\n",
    "\n",
    "    weights = np.linalg.inv(Xph.T@Xph)@(Xph.T@(yph_test == 0).astype(np.float32))\n",
    "    yph = Xph@weights\n",
    "    yph = np.where(yph > 0.5, 0, 1)\n",
    "    gwa = (weights[0] * phvar_pa) + (weights[1] * phvar_lr)\n",
    "    \n",
    "    if gwa >= 0.5:\n",
    "        print(\"\\nWe believe that the news is true\")\n",
    "    else:\n",
    "        print(\"\\nWe believe that the news is false\")"
   ]
  },
  {
   "cell_type": "code",
   "execution_count": 46,
   "id": "678ef589",
   "metadata": {
    "scrolled": false
   },
   "outputs": [
    {
     "name": "stdout",
     "output_type": "stream",
     "text": [
      "Judgement of each model:\n",
      "\tPassive Aggressive: [1]\n",
      "\tLogistic Regression: [1]\n",
      "\n",
      "We believe that the news is false\n"
     ]
    }
   ],
   "source": [
    "detectFakePH(\"president bongbong marcos ay nanalo ng surbey bilang pinakamagaling na presidente ng pilipinas\")"
   ]
  },
  {
   "cell_type": "code",
   "execution_count": null,
   "id": "14cfc323",
   "metadata": {},
   "outputs": [],
   "source": []
  }
 ],
 "metadata": {
  "kernelspec": {
   "display_name": "Python 3 (ipykernel)",
   "language": "python",
   "name": "python3"
  },
  "language_info": {
   "codemirror_mode": {
    "name": "ipython",
    "version": 3
   },
   "file_extension": ".py",
   "mimetype": "text/x-python",
   "name": "python",
   "nbconvert_exporter": "python",
   "pygments_lexer": "ipython3",
   "version": "3.10.4"
  }
 },
 "nbformat": 4,
 "nbformat_minor": 5
}
